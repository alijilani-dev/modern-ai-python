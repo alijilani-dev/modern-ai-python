{
  "nbformat": 4,
  "nbformat_minor": 0,
  "metadata": {
    "colab": {
      "provenance": [],
      "authorship_tag": "ABX9TyNam2g3zrx+1hx47XdxBLJB",
      "include_colab_link": true
    },
    "kernelspec": {
      "name": "python3",
      "display_name": "Python 3"
    },
    "language_info": {
      "name": "python"
    }
  },
  "cells": [
    {
      "cell_type": "markdown",
      "metadata": {
        "id": "view-in-github",
        "colab_type": "text"
      },
      "source": [
        "<a href=\"https://colab.research.google.com/github/alijilani-dev/modern-ai-python/blob/main/8_python_dictionary.ipynb\" target=\"_parent\"><img src=\"https://colab.research.google.com/assets/colab-badge.svg\" alt=\"Open In Colab\"/></a>"
      ]
    },
    {
      "cell_type": "markdown",
      "source": [
        "# Dictionary (Mapping Datatype)\n",
        "\n",
        "* Need labels or hardcoded order of fields\n",
        "* Need sense of attribute order or risk data integrity\n",
        "* Need to know index position for all fields\n",
        "* **Keys** are hashable datatypes (Immutable : I feel big stones turn firm)\n",
        "\n",
        "  - **int:** Hash(0) =  \n",
        "\n",
        "**Advantage:** Data is visible to user upon retrieval\n",
        "\n",
        "**Disadvantage:** Requires more storage space. Need for extra work in replacing indexes by keys. key-value mapping through : as separator, while , as separator between different attributes.\n",
        "\n",
        "Pending: Sets, Tuples, Dictionaries."
      ],
      "metadata": {
        "id": "bob22yX7TsE8"
      }
    },
    {
      "cell_type": "code",
      "execution_count": 9,
      "metadata": {
        "colab": {
          "base_uri": "https://localhost:8080/"
        },
        "id": "8ADUTQbeQUpW",
        "outputId": "7f58592e-7e02-42d8-da91-47414c83b7aa"
      },
      "outputs": [
        {
          "output_type": "execute_result",
          "data": {
            "text/plain": [
              "1468959283334556063"
            ]
          },
          "metadata": {},
          "execution_count": 9
        }
      ],
      "source": [
        "from typing import Any\n",
        "#                       0           1           2     3     4\n",
        "data1 : list[Any] = [\"Qasim\", \"Muhammad Aslam\", 30, \"MsDs\", \"A+\"]    # No sense of labelling\n",
        "\n",
        "data2 : list[Any] = [30, \"Rehan\", \"Muhammad\", \"MsDs\", \"A+\"]          # No sense of order\n",
        "\n",
        "# variable[index] to retrieve value.\n",
        "# var : dict[key,value] = {\n",
        "#   key : value ,\n",
        "#   key : value\n",
        "# }\n",
        "\n",
        "# var: dtype[key,value] mapping operator = { key : value, key : value }\n",
        "data : dict[str,Any] = {\n",
        "    \"name\" : \"Qasim\",\n",
        "    \"fname\" : \"Muhammad Aslam\",\n",
        "    \"age\" : 30,\n",
        "    \"education\" : \"MsDS\",\n",
        "    \"bloodgroup\" : \"A+\",\n",
        "    \"marks\" : {\"phy\":\"75\", \"chem\":\"70\", \"math\":\"75\"}\n",
        "}\n",
        "\n",
        "#data [\"marks\"][\"chem\"] # Extracting data from nested dictionaries.\n",
        "hash(\"0\")"
      ]
    },
    {
      "cell_type": "markdown",
      "source": [
        "# Project Idea: Dictionary & List\n",
        "`\"Grocery Cart & Price Tracker\" 🛒`\n",
        "\n",
        "\n",
        "---\n",
        "\n",
        "Scenario:\n",
        "You’re building a simple program for a small grocery store owner.\n",
        "The store wants to:\n",
        "\n",
        "\n",
        "*   **Purchase:** Keep a list of items currently in a customer’s cart.\n",
        "*   **Inventory:** Store prices of items in a dictionary (item → price).\n",
        "*   **Billing:** Let the customer add items, remove items, and see the total bill.\n",
        "*   **Missed:** Handle cases where an item’s price is not in the price list (maybe the store forgot to add it).\n",
        "*   List item\n"
      ],
      "metadata": {
        "id": "uEAusUUBqIIu"
      }
    },
    {
      "cell_type": "code",
      "source": [],
      "metadata": {
        "id": "vyGExrYCOHuF"
      },
      "execution_count": null,
      "outputs": []
    }
  ]
}