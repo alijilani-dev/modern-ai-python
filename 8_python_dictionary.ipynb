{
  "nbformat": 4,
  "nbformat_minor": 0,
  "metadata": {
    "colab": {
      "provenance": [],
      "authorship_tag": "ABX9TyMUMDyKAiCc9ZECpMQFwkTv",
      "include_colab_link": true
    },
    "kernelspec": {
      "name": "python3",
      "display_name": "Python 3"
    },
    "language_info": {
      "name": "python"
    }
  },
  "cells": [
    {
      "cell_type": "markdown",
      "metadata": {
        "id": "view-in-github",
        "colab_type": "text"
      },
      "source": [
        "<a href=\"https://colab.research.google.com/github/alijilani-dev/modern-ai-python/blob/main/8_python_dictionary.ipynb\" target=\"_parent\"><img src=\"https://colab.research.google.com/assets/colab-badge.svg\" alt=\"Open In Colab\"/></a>"
      ]
    },
    {
      "cell_type": "markdown",
      "source": [
        "[Diagram](https://miro.com/app/board/uXjVJUKCc94=/)\n",
        "[Reference](https://panaversity.org/dashboard/lectures/101-P001)\n",
        "# Dictionary (Mapping Datatype)\n",
        "\n",
        "* Need labels or hardcoded order of fields\n",
        "* Need sense of attribute order or risk data integrity\n",
        "* Need to know index position for all fields\n",
        "* **Keys** are hashable datatypes (Immutable : I feel big stones turn firm)\n",
        "\n",
        "  - **int:** Hash(0) =  \n",
        "\n",
        "**Advantage:** Data is visible to user upon retrieval\n",
        "\n",
        "**Disadvantage:** Requires more storage space. Need for extra work in replacing indexes by keys. key-value mapping through : as separator, while , as separator between different attributes.\n",
        "\n",
        "Pending: Sets, Tuples, Dictionaries."
      ],
      "metadata": {
        "id": "bob22yX7TsE8"
      }
    },
    {
      "cell_type": "code",
      "execution_count": null,
      "metadata": {
        "colab": {
          "base_uri": "https://localhost:8080/"
        },
        "id": "8ADUTQbeQUpW",
        "outputId": "7f58592e-7e02-42d8-da91-47414c83b7aa"
      },
      "outputs": [
        {
          "output_type": "execute_result",
          "data": {
            "text/plain": [
              "1468959283334556063"
            ]
          },
          "metadata": {},
          "execution_count": 9
        }
      ],
      "source": [
        "from typing import Any\n",
        "#                       0           1           2     3     4\n",
        "data1 : list[Any] = [\"Qasim\", \"Muhammad Aslam\", 30, \"MsDs\", \"A+\"]    # No sense of labelling\n",
        "\n",
        "data2 : list[Any] = [30, \"Rehan\", \"Muhammad\", \"MsDs\", \"A+\"]          # No sense of order\n",
        "\n",
        "# variable[index] to retrieve value.\n",
        "# var : dict[key,value] = {\n",
        "#   key : value ,\n",
        "#   key : value\n",
        "# }\n",
        "\n",
        "# var: dtype[key,value] mapping operator = { key : value, key : value }\n",
        "data : dict[str,Any] = {\n",
        "    \"name\" : \"Qasim\",\n",
        "    \"fname\" : \"Muhammad Aslam\",\n",
        "    \"age\" : 30,\n",
        "    \"education\" : \"MsDS\",\n",
        "    \"bloodgroup\" : \"A+\",\n",
        "    \"marks\" : {\"phy\":\"75\", \"chem\":\"70\", \"math\":\"75\"}\n",
        "}\n",
        "\n",
        "#data [\"marks\"][\"chem\"] # Extracting data from nested dictionaries.\n",
        "hash(\"0\")"
      ]
    },
    {
      "cell_type": "markdown",
      "source": [
        "# Project Idea: Dictionary & List\n",
        "`\"Popping-Cart, Grocery Cart & Price Tracker\" 🛒`\n",
        "\n",
        "\n",
        "---\n",
        "\n",
        "Scenario:\n",
        "You’re building a simple program for a small grocery store owner.\n",
        "The store wants to:\n",
        "\n",
        "\n",
        "*   **Purchase:** Keep a list of items currently in a customer’s cart.\n",
        "*   **Inventory:** Store prices of items in a dictionary (item → price).\n",
        "*   **Billing:** Let the customer add items, remove items, and see the total bill.\n",
        "*   **Missed:** Handle cases where an item’s price is not in the price list (maybe the store forgot to add it).\n",
        "\n",
        "Core Features\n",
        "*   Dictionary for price list:\n",
        "\n",
        "python\n",
        "Copy\n",
        "Edit\n",
        "prices = {\n",
        "    \"apple\": 30,\n",
        "    \"banana\": 15,\n",
        "    \"milk\": 90,\n",
        "    \"bread\": 50\n",
        "}\n",
        "*   List for shopping cart:\n",
        "\n",
        "cart = [ ]\n",
        "\n",
        "Menu options:\n",
        "\n",
        "*   Add item to cart\n",
        "\n",
        "*   Remove item from cart\n",
        "\n",
        "*   View cart items\n",
        "\n",
        "*   Calculate total bill (use dict.get(item, 0) to handle missing prices)\n",
        "\n",
        "*   Exit"
      ],
      "metadata": {
        "id": "uEAusUUBqIIu"
      }
    },
    {
      "cell_type": "code",
      "source": [],
      "metadata": {
        "id": "CjFG04vIHjIP"
      },
      "execution_count": null,
      "outputs": []
    },
    {
      "cell_type": "code",
      "source": [],
      "metadata": {
        "id": "UPlX16hvgDE4"
      },
      "execution_count": null,
      "outputs": []
    },
    {
      "cell_type": "code",
      "source": [
        "#############################################]\n",
        "# Popping-Cart : Grocery Cart & Price Tracker\n",
        "#############################################]\n",
        "from typing import Any\n",
        "\n",
        "grocery_inventory : dict[str,Any] = { \"banana (dz)\" : 20, \"apples (kg)\" : 15.5, \"grapes (kg)\" : 30.30, \"bread\" : 40, \"eggs\" : 150 }\n",
        "# item out of stock, item not found,\n",
        "\n",
        "rate_list_pkr : dict[str,Any] = { \"Banana\" : 155.50, \"Apples\" : 250.55, \"Grapes\" : 300.45, \"Bread\" : 145, \"Butter\" : 200}\n",
        "# manage price\n",
        "\n",
        "def manage_inventory():\n",
        "  # Add item to inventory\n",
        "  print(f\"Items in stock: \" , grocery_inventory.keys())\n",
        "\n",
        "  def add_inventory():\n",
        "    while (item := input(\"What item to add (or 'done' to stop): \").strip().lower()) != \"done\":\n",
        "    # Check if the item exists\n",
        "      if item in grocery_inventory:\n",
        "          print(f\"Current stock of {item}: {grocery_inventory[item]}\")\n",
        "\n",
        "          # Ask how much to add\n",
        "          try:\n",
        "              quantity = int(input(f\"How much of {item} to add: \"))\n",
        "              grocery_inventory[item] += quantity  # Update the quantity\n",
        "              print(f\"✅ Updated {item} quantity in stock {grocery_inventory[item]}\")\n",
        "              break\n",
        "          except ValueError:\n",
        "              print(\"❌ Invalid price entered.\")\n",
        "              break\n",
        "      else:\n",
        "          print(f\"⚠️ {item} not found in inventory.\")\n",
        "          break\n",
        "\n",
        "  def remove_inventory():\n",
        "  # Remove item from\n",
        "    while (item := input(\"What item to remove (or 'done' to stop): \").strip().lower()) != \"done\":\n",
        "    # Check if the item exists\n",
        "      if item in grocery_inventory:\n",
        "          print(f\"Current stock of {item}: {grocery_inventory[item]}\")\n",
        "\n",
        "          # Ask how much to remove\n",
        "          try:\n",
        "              quantity = int(input(f\"How much of {item} to remove: \"))\n",
        "              grocery_inventory[item] -= quantity  # Update the quantity\n",
        "              print(f\"✅ Updated {item} quantity in stock {grocery_inventory[item]}\")\n",
        "              break\n",
        "          except ValueError:\n",
        "              print(\"❌ Invalid price entered.\")\n",
        "              break\n",
        "      else:\n",
        "          print(f\"⚠️ {item} not found in inventory.\")\n",
        "          break\n",
        "\n",
        "    #grocery_inventory.get(b,\"my_default_vlaue_if_key_not_found\") # What item to add & How much\n",
        "\n",
        "  def publish_inventory_report():\n",
        "    # Publish inventory report\n",
        "    print(\"Inventory Report:\")\n",
        "    for item, quantity in grocery_inventory.items():\n",
        "        print(f\"{item}: {quantity}\")\n",
        "\n",
        "  manage_inventory_options = {\n",
        "    \"a\": add_inventory,\n",
        "    \"b\": remove_inventory,\n",
        "    \"c\": publish_inventory_report,\n",
        "    \"d\": invalid_option\n",
        "  }\n",
        "\n",
        "  print(\"Manage Inventory:\")\n",
        "  print(\"a) Add Inventory\")\n",
        "  print(\"b) Remove Inventory\")\n",
        "  print(\"c) Publish Inventory Report\")\n",
        "  print(\"d) Exit\")\n",
        "\n",
        "  while (choice := input(\"Inventory - Enter your choice: \").strip().lower()) != \"d\":\n",
        "    # Use get() with a default to handle invalid input\n",
        "    manage_inventory = manage_inventory_options.get(choice, invalid_option)\n",
        "    # Execute the chosen action\n",
        "    manage_inventory()\n",
        "\n",
        "def purchase_items():\n",
        "  print(\"Purchase items in cart\")\n",
        "\n",
        "def return_items():\n",
        "  print(\"Return item from cart\")\n",
        "\n",
        "def bill_payment():\n",
        "  print(\"Bill payment\")\n",
        "\n",
        "def invalid_option():\n",
        "  print(\"Invalid option. Please try again\")\n",
        "\n",
        "menu_options = {\n",
        "    \"a\": manage_inventory,\n",
        "    \"b\": purchase_items,\n",
        "    \"c\": return_items,\n",
        "    \"d\": bill_payment,\n",
        "    \"e\": invalid_option\n",
        "}\n",
        "\n",
        "print(\"Main-Menu:\")\n",
        "print(\"a) Inventory Management\")\n",
        "print(\"b) Make Purchase\")\n",
        "print(\"c) Return Purchase\")\n",
        "print(\"d) Bill Payment\")\n",
        "print(\"e) Exit\")\n",
        "\n",
        "while (choice := input(\"Main - Enter your choice: \").strip().lower()) != \"e\":\n",
        "  #choice = input().lower()\n",
        "  # Use get() with a default to handle invalid input\n",
        "  action = menu_options.get(choice, invalid_option)\n",
        "  # Execute the chosen action\n",
        "  action()"
      ],
      "metadata": {
        "id": "vyGExrYCOHuF",
        "colab": {
          "base_uri": "https://localhost:8080/"
        },
        "outputId": "ba4933e0-1337-439a-f78a-5fd081069d50"
      },
      "execution_count": null,
      "outputs": [
        {
          "name": "stdout",
          "output_type": "stream",
          "text": [
            "Main-Menu:\n",
            "a) Inventory Management\n",
            "b) Make Purchase\n",
            "c) Return Purchase\n",
            "d) Bill Payment\n",
            "e) Exit\n",
            "Main - Enter your choice: a\n",
            "Items in stock:  dict_keys(['banana (dz)', 'apples (kg)', 'grapes (kg)', 'bread', 'eggs'])\n",
            "Manage Inventory:\n",
            "a) Add Inventory\n",
            "b) Remove Inventory\n",
            "c) Publish Inventory Report\n",
            "d) Exit\n",
            "Inventory - Enter your choice: d\n",
            "Main - Enter your choice: d\n",
            "Bill payment\n",
            "Main - Enter your choice: done\n"
          ]
        }
      ]
    },
    {
      "cell_type": "code",
      "source": [],
      "metadata": {
        "id": "Jjh1VZzJaKUR"
      },
      "execution_count": null,
      "outputs": []
    },
    {
      "cell_type": "code",
      "metadata": {
        "colab": {
          "base_uri": "https://localhost:8080/"
        },
        "id": "2bfe8872",
        "outputId": "9d264e8e-6b7f-4891-be0f-2e493d188315"
      },
      "source": [
        "def handle_option_a():\n",
        "  print(\"You chose Option A!\")\n",
        "\n",
        "def handle_option_b():\n",
        "  print(\"You selected Option B.\")\n",
        "\n",
        "def handle_option_c():\n",
        "  print(\"Option C was chosen.\")\n",
        "\n",
        "def invalid_option():\n",
        "  print(\"Invalid option. Please try again.\")\n",
        "\n",
        "menu_options = {\n",
        "    \"a\": handle_option_a,\n",
        "    \"b\": handle_option_b,\n",
        "    \"c\": handle_option_c\n",
        "}\n",
        "\n",
        "print(\"Menu:\")\n",
        "print(\"a) Option A\")\n",
        "print(\"b) Option B\")\n",
        "print(\"c) Option C\")\n",
        "\n",
        "choice = input(\"Enter your choice: \").lower()\n",
        "\n",
        "# Use get() with a default to handle invalid input\n",
        "action = menu_options.get(choice, invalid_option)\n",
        "\n",
        "# Execute the chosen action\n",
        "action()"
      ],
      "execution_count": null,
      "outputs": [
        {
          "output_type": "stream",
          "name": "stdout",
          "text": [
            "Menu:\n",
            "a) Option A\n",
            "b) Option B\n",
            "c) Option C\n",
            "Enter your choice: a\n",
            "You chose Option A!\n"
          ]
        }
      ]
    },
    {
      "cell_type": "code",
      "source": [],
      "metadata": {
        "id": "SDtYX3hizj9C"
      },
      "execution_count": null,
      "outputs": []
    },
    {
      "cell_type": "code",
      "metadata": {
        "colab": {
          "base_uri": "https://localhost:8080/"
        },
        "id": "5fdedb6c",
        "outputId": "42459e7c-769c-4832-9418-f93e7db82681"
      },
      "source": [
        "def main_menu():\n",
        "    print(\"\\n--- Main Menu ---\")\n",
        "    print(\"1. Go to Sub-Menu A\")\n",
        "    print(\"2. Exit\")\n",
        "\n",
        "    while True:\n",
        "        choice = input(\"Enter your choice: \")\n",
        "        if choice == '1':\n",
        "            sub_menu_a()\n",
        "        elif choice == '2':\n",
        "            print(\"Exiting program.\")\n",
        "            break\n",
        "        else:\n",
        "            print(\"Invalid choice. Please try again.\")\n",
        "\n",
        "def sub_menu_a():\n",
        "    print(\"\\n--- Sub-Menu A ---\")\n",
        "    print(\"a. Perform Action X\")\n",
        "    print(\"b. Go back to Main Menu\")\n",
        "\n",
        "    while True:\n",
        "        choice = input(\"Enter your choice: \")\n",
        "        if choice == 'a':\n",
        "            print(\"Performing Action X...\")\n",
        "            # Add code for Action X here\n",
        "        elif choice == 'b':\n",
        "            print(\"Returning to Main Menu...\")\n",
        "            break # This breaks out of the sub-menu loop, returning to the main menu loop\n",
        "        else:\n",
        "            print(\"Invalid choice. Please try again.\")\n",
        "\n",
        "# Start the main menu\n",
        "main_menu()"
      ],
      "execution_count": null,
      "outputs": [
        {
          "output_type": "stream",
          "name": "stdout",
          "text": [
            "\n",
            "--- Main Menu ---\n",
            "1. Go to Sub-Menu A\n",
            "2. Exit\n",
            "Enter your choice: 2\n",
            "Exiting program.\n"
          ]
        }
      ]
    }
  ]
}