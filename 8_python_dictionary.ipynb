{
  "nbformat": 4,
  "nbformat_minor": 0,
  "metadata": {
    "colab": {
      "provenance": [],
      "authorship_tag": "ABX9TyMFotGTz1xYTINDUAM/L48L",
      "include_colab_link": true
    },
    "kernelspec": {
      "name": "python3",
      "display_name": "Python 3"
    },
    "language_info": {
      "name": "python"
    }
  },
  "cells": [
    {
      "cell_type": "markdown",
      "metadata": {
        "id": "view-in-github",
        "colab_type": "text"
      },
      "source": [
        "<a href=\"https://colab.research.google.com/github/alijilani-dev/modern-ai-python/blob/main/8_python_dictionary.ipynb\" target=\"_parent\"><img src=\"https://colab.research.google.com/assets/colab-badge.svg\" alt=\"Open In Colab\"/></a>"
      ]
    },
    {
      "cell_type": "markdown",
      "source": [
        "# Dictionary (Mapping Datatype)\n",
        "\n",
        "* Need labels or hardcoded order of fields\n",
        "* Need sense of attribute order or risk data integrity\n",
        "* Need to know index position for all fields\n",
        "\n",
        "**Advantage:** Data is visible to user upon retrieval\n",
        "\n",
        "**Disadvantage:** Requires more storage space. Need for extra work in replacing indexes by keys. key-value mapping through : as separator, while , as separator between different attributes.\n"
      ],
      "metadata": {
        "id": "bob22yX7TsE8"
      }
    },
    {
      "cell_type": "code",
      "execution_count": 3,
      "metadata": {
        "colab": {
          "base_uri": "https://localhost:8080/"
        },
        "id": "8ADUTQbeQUpW",
        "outputId": "0b994fbc-dafd-4402-c11f-945f760da4b8"
      },
      "outputs": [
        {
          "output_type": "execute_result",
          "data": {
            "text/plain": [
              "{'name': 'Qasim',\n",
              " 'fname': 'Muhammad Aslam',\n",
              " 'age': 30,\n",
              " 'education': 'MsDS',\n",
              " 'bloodgroup': 'A+'}"
            ]
          },
          "metadata": {},
          "execution_count": 3
        }
      ],
      "source": [
        "from typing import Any\n",
        "#                       0           1           2     3     4\n",
        "data1 : list[Any] = [\"Qasim\", \"Muhammad Aslam\", 30, \"MsDs\", \"A+\"]    # No sense of labelling\n",
        "\n",
        "data2 : list[Any] = [30, \"Rehan\", \"Muhammad\", \"MsDs\", \"A+\"]          # No sense of order\n",
        "\n",
        "# variable[index] to retrieve value.\n",
        "# var : dict[key,value] = {\n",
        "#   key : value ,\n",
        "#   key : value\n",
        "# }\n",
        "\n",
        "# var: dtype[key,value] mapping operator = { key : value, key : value }\n",
        "data : dict[str,Any] = {\n",
        "    \"name\" : \"Qasim\",\n",
        "    \"fname\" : \"Muhammad Aslam\",\n",
        "    \"age\" : 30,\n",
        "    \"education\" : \"MsDS\",\n",
        "    \"bloodgroup\" : \"A+\"\n",
        "}\n",
        "\n",
        "data"
      ]
    }
  ]
}