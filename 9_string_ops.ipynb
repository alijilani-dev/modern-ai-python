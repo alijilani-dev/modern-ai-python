{
  "nbformat": 4,
  "nbformat_minor": 0,
  "metadata": {
    "colab": {
      "provenance": [],
      "authorship_tag": "ABX9TyMkRlHYS9uiZGyLOvYCWFM0",
      "include_colab_link": true
    },
    "kernelspec": {
      "name": "python3",
      "display_name": "Python 3"
    },
    "language_info": {
      "name": "python"
    }
  },
  "cells": [
    {
      "cell_type": "markdown",
      "metadata": {
        "id": "view-in-github",
        "colab_type": "text"
      },
      "source": [
        "<a href=\"https://colab.research.google.com/github/alijilani-dev/modern-ai-python/blob/main/9_string_ops.ipynb\" target=\"_parent\"><img src=\"https://colab.research.google.com/assets/colab-badge.svg\" alt=\"Open In Colab\"/></a>"
      ]
    },
    {
      "cell_type": "markdown",
      "source": [
        "[Reference:](https://youtu.be/opyEGTeFk2g) - 17:06\n",
        "# **Raw string**\n",
        "Raw string (r\"\"): Backslashes are taken literally, not as escape sequences.\n",
        "\n",
        "> print(r\"Hello\\nWorld\")  \n",
        "\n",
        "Output: Hello\\nWorld\n",
        "\n",
        "So the \"r\" tells Python:\n",
        "👉 “Don’t interpret escapes, keep it raw.”\n",
        "\n",
        "**Acronym**\n",
        "👉 R = \"Raw, Real, and Resistant\"\n",
        "\n",
        "*   Raw → Keeps text as-is.\n",
        "*   Real → Shows the real backslashes.\n",
        "*   Resistant → Doesn’t process escape sequences.\n",
        "\n",
        "**Mnemonic**\n",
        "👉 \"Raw strings keep it Real — no Escapes allowed.\"\n",
        "\n",
        "Think of it like this:\n",
        "\n",
        "*   In a normal string, \\n is a ninja that sneaks in and breaks the line.\n",
        "\n",
        "*   In a raw string, the ninja is blocked at the door — it just shows \\n as plain text.\n",
        "\n",
        "🔑 So whenever you see r\"...\", remember:\n",
        "*R = Resist escape characters.*\n"
      ],
      "metadata": {
        "id": "fFx8TkcJWxGb"
      }
    },
    {
      "cell_type": "markdown",
      "source": [
        "# **Escape Sequence Characters**\n",
        "The \\b in Python strings is the backspace escape character.\n",
        "It literally tells the console: “move one step backward” (without deleting the text behind it — the next character you print will overwrite whatever was there).\n",
        "\n",
        "# **Unicode UTF-8 Sequence**\n",
        "پاکستان زندہ باد\n",
        "\n",
        "Unicode UTF-8 Sequence (Hex Codepoints)\n",
        "Each character has its Unicode code point:\n",
        "\n",
        "> text=\"\\u067E\\u0627\\u06A9\\u0633\\u062A\\u0627\\u0646\\u0632\\u0646\\u062F\\u06C1\\u0628\\u0627\\u062F\"\n",
        ">\n",
        ">print(text)\n",
        "\n",
        "Output: پاکستان زندہ باد\n",
        "\n",
        "*   پ = \\U067E\n",
        "\n",
        "*   ا = \\U0627\n",
        "\n",
        "*   ک = \\U06A9\n",
        "\n",
        "*   س = \\U0633\n",
        "\n",
        "*   ت = \\U062A\n",
        "\n",
        "*   ا = \\U0627\n",
        "\n",
        "*   ن = \\U0646\n",
        "\n",
        "*   (space) = \\U0020\n",
        "\n",
        "*   ز = \\U0632\n",
        "\n",
        "*   ن = \\U0646\n",
        "\n",
        "*   د = \\U062F\n",
        "\n",
        "*   ہ = \\U06C1\n",
        "\n",
        "*   (space) = \\U0020\n",
        "\n",
        "*   ب = \\U0628\n",
        "\n",
        "*   ا = \\U0627\n",
        "\n",
        "*   د = \\U062F\n",
        "\n",
        "# **Unicode escape sequence characters**"
      ],
      "metadata": {
        "id": "LqJ3bg9ahoaa"
      }
    },
    {
      "cell_type": "code",
      "execution_count": null,
      "metadata": {
        "id": "oyOifC9pWTej"
      },
      "outputs": [],
      "source": []
    },
    {
      "cell_type": "code",
      "source": [],
      "metadata": {
        "id": "xqw6U6g6YexS"
      },
      "execution_count": null,
      "outputs": []
    }
  ]
}