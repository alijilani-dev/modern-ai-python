{
  "nbformat": 4,
  "nbformat_minor": 0,
  "metadata": {
    "colab": {
      "provenance": [],
      "authorship_tag": "ABX9TyPmhftsA/Qv4o3bv+aCzbcz",
      "include_colab_link": true
    },
    "kernelspec": {
      "name": "python3",
      "display_name": "Python 3"
    },
    "language_info": {
      "name": "python"
    }
  },
  "cells": [
    {
      "cell_type": "markdown",
      "metadata": {
        "id": "view-in-github",
        "colab_type": "text"
      },
      "source": [
        "<a href=\"https://colab.research.google.com/github/alijilani-dev/modern-ai-python/blob/main/9_string_ops.ipynb\" target=\"_parent\"><img src=\"https://colab.research.google.com/assets/colab-badge.svg\" alt=\"Open In Colab\"/></a>"
      ]
    },
    {
      "cell_type": "markdown",
      "source": [
        "# **Raw string**\n",
        "Raw string (r\"\"): Backslashes are taken literally, not as escape sequences.\n",
        "\n",
        "> print(r\"Hello\\nWorld\")  \n",
        "\n",
        "Output: Hello\\nWorld\n",
        "\n",
        "So the \"r\" tells Python:\n",
        "👉 “Don’t interpret escapes, keep it raw.”\n",
        "\n",
        "**Acronym**\n",
        "👉 R = \"Raw, Real, and Resistant\"\n",
        "\n",
        "*   Raw → Keeps text as-is.\n",
        "*   Real → Shows the real backslashes.\n",
        "*   Resistant → Doesn’t process escape sequences.\n",
        "\n",
        "**Mnemonic**\n",
        "👉 \"Raw strings keep it Real — no Escapes allowed.\"\n",
        "\n",
        "Think of it like this:\n",
        "\n",
        "*   In a normal string, \\n is a ninja that sneaks in and breaks the line.\n",
        "\n",
        "*   In a raw string, the ninja is blocked at the door — it just shows \\n as plain text.\n",
        "\n",
        "🔑 So whenever you see r\"...\", remember:\n",
        "*R = Resist escape characters.*\n",
        "\n",
        "# **Escape Sequence Characters**\n",
        "The \\b in Python strings is the backspace escape character.\n",
        "It literally tells the console: “move one step backward” (without deleting the text behind it — the next character you print will overwrite whatever was there).\n",
        "\n",
        "# **Unicode UTF-8 Sequence**\n",
        "پاکستان زندہ باد\n",
        "\n",
        "Unicode UTF-8 Sequence (Hex Codepoints)\n",
        "Each character has its Unicode code point:\n",
        "\n",
        "*   پ = U+067E\n",
        "\n",
        "*   ا = U+0627\n",
        "\n",
        "*   ک = U+06A9\n",
        "\n",
        "*   س = U+0633\n",
        "\n",
        "*   ت = U+062A\n",
        "\n",
        "*   ا = U+0627\n",
        "\n",
        "*   ن = U+0646\n",
        "\n",
        "*   (space) = U+0020\n",
        "\n",
        "*   ز = U+0632\n",
        "\n",
        "*   ن = U+0646\n",
        "\n",
        "*   د = U+062F\n",
        "\n",
        "*   ہ = U+06C1\n",
        "\n",
        "*   (space) = U+0020\n",
        "\n",
        "*   ب = U+0628\n",
        "\n",
        "*   ا = U+0627\n",
        "\n",
        "*   د = U+062F\n"
      ],
      "metadata": {
        "id": "fFx8TkcJWxGb"
      }
    },
    {
      "cell_type": "code",
      "execution_count": null,
      "metadata": {
        "id": "oyOifC9pWTej"
      },
      "outputs": [],
      "source": []
    },
    {
      "cell_type": "code",
      "source": [],
      "metadata": {
        "id": "xqw6U6g6YexS"
      },
      "execution_count": null,
      "outputs": []
    }
  ]
}