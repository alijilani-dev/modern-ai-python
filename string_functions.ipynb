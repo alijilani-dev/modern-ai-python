{
  "nbformat": 4,
  "nbformat_minor": 0,
  "metadata": {
    "colab": {
      "provenance": [],
      "authorship_tag": "ABX9TyNIC3qc55ek8mbLRlQC7p6d",
      "include_colab_link": true
    },
    "kernelspec": {
      "name": "python3",
      "display_name": "Python 3"
    },
    "language_info": {
      "name": "python"
    }
  },
  "cells": [
    {
      "cell_type": "markdown",
      "metadata": {
        "id": "view-in-github",
        "colab_type": "text"
      },
      "source": [
        "<a href=\"https://colab.research.google.com/github/alijilani-dev/modern-ai-python/blob/main/string_functions.ipynb\" target=\"_parent\"><img src=\"https://colab.research.google.com/assets/colab-badge.svg\" alt=\"Open In Colab\"/></a>"
      ]
    },
    {
      "cell_type": "code",
      "execution_count": 1,
      "metadata": {
        "colab": {
          "base_uri": "https://localhost:8080/",
          "height": 505
        },
        "id": "E0XxMeGfd_43",
        "outputId": "b2ecf9e1-2ea7-48cc-d08f-f53b2acdba53"
      },
      "outputs": [
        {
          "output_type": "stream",
          "name": "stdout",
          "text": [
            "Key:key and Value: value\n",
            "llo World\n",
            "Hello Wor\n",
            "Help World\n",
            "7\n",
            "Date: 01, Month: 01 & Year: 2025\n",
            "Folder: folder, Subfolder: subfolder & File: ['filename', 'pdf']\n",
            "Date: 01, Month: 01 & Year: 2025\n",
            "['Yellow World']\n",
            "True\n",
            "Hello Worlds\n",
            "HELLO WORLD\n"
          ]
        },
        {
          "output_type": "error",
          "ename": "TypeError",
          "evalue": "str.join() takes exactly one argument (0 given)",
          "traceback": [
            "\u001b[0;31m---------------------------------------------------------------------------\u001b[0m",
            "\u001b[0;31mTypeError\u001b[0m                                 Traceback (most recent call last)",
            "\u001b[0;32m/tmp/ipython-input-1511898282.py\u001b[0m in \u001b[0;36m<cell line: 0>\u001b[0;34m()\u001b[0m\n\u001b[1;32m     99\u001b[0m \u001b[0;34m\u001b[0m\u001b[0m\n\u001b[1;32m    100\u001b[0m \u001b[0;32mif\u001b[0m \u001b[0m__name__\u001b[0m \u001b[0;34m==\u001b[0m \u001b[0;34m'__main__'\u001b[0m\u001b[0;34m:\u001b[0m\u001b[0;34m\u001b[0m\u001b[0;34m\u001b[0m\u001b[0m\n\u001b[0;32m--> 101\u001b[0;31m     \u001b[0mmain\u001b[0m\u001b[0;34m(\u001b[0m\u001b[0;34m)\u001b[0m\u001b[0;34m\u001b[0m\u001b[0;34m\u001b[0m\u001b[0m\n\u001b[0m",
            "\u001b[0;32m/tmp/ipython-input-1511898282.py\u001b[0m in \u001b[0;36mmain\u001b[0;34m()\u001b[0m\n\u001b[1;32m     51\u001b[0m   \u001b[0;31m#\"Hello World\".isupper()\u001b[0m\u001b[0;34m\u001b[0m\u001b[0;34m\u001b[0m\u001b[0m\n\u001b[1;32m     52\u001b[0m   \u001b[0;34m\"Hello World\"\u001b[0m\u001b[0;34m.\u001b[0m\u001b[0mupper\u001b[0m\u001b[0;34m(\u001b[0m\u001b[0;34m)\u001b[0m\u001b[0;34m.\u001b[0m\u001b[0misupper\u001b[0m\u001b[0;34m(\u001b[0m\u001b[0;34m)\u001b[0m\u001b[0;34m\u001b[0m\u001b[0;34m\u001b[0m\u001b[0m\n\u001b[0;32m---> 53\u001b[0;31m   \u001b[0;34m\"Hello World\"\u001b[0m\u001b[0;34m.\u001b[0m\u001b[0mjoin\u001b[0m\u001b[0;34m(\u001b[0m\u001b[0;34m)\u001b[0m\u001b[0;34m\u001b[0m\u001b[0;34m\u001b[0m\u001b[0m\n\u001b[0m\u001b[1;32m     54\u001b[0m   \u001b[0mwords\u001b[0m \u001b[0;34m=\u001b[0m \u001b[0;34m{\u001b[0m\u001b[0;34m\"Hello\"\u001b[0m\u001b[0;34m,\u001b[0m \u001b[0;34m\"World\"\u001b[0m\u001b[0;34m}\u001b[0m\u001b[0;34m\u001b[0m\u001b[0;34m\u001b[0m\u001b[0m\n\u001b[1;32m     55\u001b[0m   \u001b[0mprint\u001b[0m\u001b[0;34m(\u001b[0m\u001b[0;34m\" \"\u001b[0m\u001b[0;34m.\u001b[0m\u001b[0mjoin\u001b[0m\u001b[0;34m(\u001b[0m\u001b[0mwords\u001b[0m\u001b[0;34m)\u001b[0m\u001b[0;34m)\u001b[0m\u001b[0;34m\u001b[0m\u001b[0;34m\u001b[0m\u001b[0m\n",
            "\u001b[0;31mTypeError\u001b[0m: str.join() takes exactly one argument (0 given)"
          ]
        }
      ],
      "source": [
        "def main():\n",
        "  ###########################\n",
        "  # Python String Functions #\n",
        "  ###########################\n",
        "  #\"Hello World\".capitalize()\n",
        "  \"Hello World\".capitalize()\n",
        "  #\"Hello World\".casefold()\n",
        "  (\"Hello World\" + chr(233)).casefold() # needs investigation\n",
        "  #\"Hello World\".center()\n",
        "  \"Hello World\".center(20,\" \")\n",
        "  #\"Hello World\".count()\n",
        "  \"Hello World\".count(\"l\")\n",
        "  #\"Hello World\".encode() https://www.ascii-code.com/\n",
        "  (\"Hello World\"+chr(233)).encode(\"UTF-8\")\n",
        "  #\"Hello World\".endswith()\n",
        "  \"Hello World\".endswith(\"d\")\n",
        "  #\"Hello World\".expandtabs()\n",
        "  \"Hello World\".expandtabs()\n",
        "  #\"Hello World\".find()\n",
        "  \"Hello World\".find(\"o\")\n",
        "  #\"Hello World {}\".format()\n",
        "  \"Hello World {}\".format(\"!!\")\n",
        "  data = {'token':'!!'}\n",
        "  #\"Hello World\".format_map()\n",
        "  \"Hello World {token}\".format_map(data)\n",
        "  #\"Hello World\".index()\n",
        "  \"Hello World\".index('ll')\n",
        "  #\"HelloWorld\".isalnum()\n",
        "  \"HelloWorld123\".isalnum()\n",
        "  #\"Hello World\".isalpha()\n",
        "  \"Hello World\".isalpha() # needs investigation\n",
        "  #\"HelloWorldcafé\".isascii()\n",
        "  \"HelloWorldcafé\".isascii()\n",
        "  #\"123\".isdecimal()\n",
        "  \"123\".isdecimal() #True: string only contains decimal numbers 0-9, False: letters, punctuation, spaces, or even superscripts, Roman numerals, etc.\n",
        "  #\"111\".isdigit()\n",
        "  \"111\".isdigit()\n",
        "  #\"Hello World\".isidentifier()\n",
        "  \"Hello World\".isidentifier() # False: 'class','my-varwithspecialcharorspace','1varstartswithnumber'\n",
        "  #\"Hello World\".islower()\n",
        "  \"Hello World\".islower()\n",
        "  #\"Hello World\".isnumeric()\n",
        "  \"Hello World\".isnumeric()\n",
        "  #\"Hello World\".isprintable()\n",
        "  \"Hello\\n World\".isprintable() # \\n (newline), \\t (tab), \\x00(null)\n",
        "  #\"Hello World\".isspace()\n",
        "  not(\"Hello World\".isspace())\n",
        "  #\"hello world\".title()\n",
        "  \"hello world\".title() # first character of each word is uppercase\n",
        "  #\"hello world\".istitle()\n",
        "  \"hello world\".title().istitle() # first character of each word is uppercase, rest of the characters in each word are lowercase\n",
        "  #\"Hello World\".upper()\n",
        "  \"Hello World\".upper() # HELLO WORLD\n",
        "  #\"Hello World\".isupper()\n",
        "  \"Hello World\".upper().isupper()\n",
        "  \"Hello World\".join()\n",
        "  words = {\"Hello\", \"World\"}\n",
        "  print(\" \".join(words))\n",
        "  #\"Hello World\".ljust()\n",
        "  print(\"Hello World\".ljust(20,'$'))\n",
        "#\"Hello World\".lstrip()\n",
        "  print(\"$$$Yello World\".lstrip('$'))\n",
        "#\"Hello World\".translate() and maketrans()\n",
        "  print(\"Hello World\".translate(str.maketrans(\"aeiou\",\"12345\"))) # use maketrans() to create a translationmap and then use translate() on it.\n",
        "#\"Hello World\".partition()\n",
        "key, sep, val = \"key=value\".partition(\"=\")\n",
        "print(f\"Key:{key} and Value: {val}\")\n",
        "#\"Hello World\".removeprefix()\n",
        "print(\"Hello World\".removeprefix(\"He\"))\n",
        "#\"Hello World\".removesuffix()\n",
        "print(\"Hello World\".removesuffix(\"ld\"))\n",
        "#\"Hello World\".replace()\n",
        "print(\"Hello World\".replace(\"lo\",\"p\"))\n",
        "#\"Hello World\".rfind()\n",
        "\"Hello World, Hello Universe\".rfind(\"ll\") # arg2: startindex, arg3: endindex\n",
        "#\"Hello World\".rindex()\n",
        "print(\"Hello World\".rindex(\"o\"))\n",
        "#\"Hello World\".rjust()\n",
        "\"Hello World\".rjust(20, \"$\")\n",
        "#\"Hello World\".rpartition()\n",
        "token, sep, year = \"01/01/2025\".rpartition(\"/\")\n",
        "date, sep, month = token.rpartition(\"/\")\n",
        "print(f\"Date: {date}, Month: {month} & Year: {year}\")\n",
        "#\"Hello World\".strip()\n",
        "folder, subfolder, file = \"folder/subfolder/filename.pdf\".split(\"/\")\n",
        "print(f\"Folder: {folder}, Subfolder: {subfolder} & File: {file.split('.')}\")\n",
        "#\"Hello World\".rsplit()\n",
        "token, year = \"01-01-2025\".rsplit(\"-\",1)\n",
        "date, month = token.rsplit(\"-\",1)\n",
        "print(f\"Date: {date}, Month: {month} & Year: {year}\")\n",
        "#\"Yellow World\".splitlines()\n",
        "print(\"Yellow World\".splitlines())\n",
        "#\"Hello World\".startswith()\n",
        "print(\"Hello World\".startswith(\"Hell\"))\n",
        "#\"Hello World\".strip()\n",
        "\"Hello World\".strip()\n",
        "print(\"  Hello Worlds   \".strip())\n",
        "#\"Hello World\".swapcase()\n",
        "print(\"hello world\".swapcase())\n",
        "#\"Hello World\".zfill()\n",
        "\"Hello World\".zfill(20)\n",
        "\n",
        "if __name__ == '__main__':\n",
        "    main()"
      ]
    },
    {
      "cell_type": "code",
      "source": [
        "chr(65)\n",
        "bin(65)"
      ],
      "metadata": {
        "colab": {
          "base_uri": "https://localhost:8080/",
          "height": 36
        },
        "id": "istha8qkH4Ih",
        "outputId": "29ea0d6c-2f6f-4dae-87a4-c23b8143c198"
      },
      "execution_count": 3,
      "outputs": [
        {
          "output_type": "execute_result",
          "data": {
            "text/plain": [
              "'0b1000001'"
            ],
            "application/vnd.google.colaboratory.intrinsic+json": {
              "type": "string"
            }
          },
          "metadata": {},
          "execution_count": 3
        }
      ]
    },
    {
      "cell_type": "code",
      "source": [
        "# Python Operators https://www.w3schools.com/python/python_operators.asp"
      ],
      "metadata": {
        "id": "C1WtsGCmnPii"
      },
      "execution_count": 4,
      "outputs": []
    },
    {
      "cell_type": "code",
      "source": [],
      "metadata": {
        "id": "1K2d19ubNPQO"
      },
      "execution_count": null,
      "outputs": []
    }
  ]
}